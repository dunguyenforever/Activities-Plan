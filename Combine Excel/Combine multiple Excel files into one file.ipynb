{
 "cells": [
  {
   "cell_type": "code",
   "execution_count": 3,
   "id": "afdfadf4",
   "metadata": {},
   "outputs": [],
   "source": [
    "# This program will combine multiple Excel file into one master file\n",
    "import os\n",
    "import pandas \n",
    "cwd = os.path.abspath('') \n",
    "files = os.listdir(cwd)  "
   ]
  },
  {
   "cell_type": "code",
   "execution_count": 4,
   "id": "b58a08e0",
   "metadata": {},
   "outputs": [],
   "source": [
    "# User input values for desired output Excel file name\n",
    "combined_file_name = 'combined file'"
   ]
  },
  {
   "cell_type": "code",
   "execution_count": 5,
   "id": "e2838825",
   "metadata": {},
   "outputs": [],
   "source": [
    "# Before running the combine code, make sure that all the necessary Excel files\n",
    "# needed to combine are in the same file directory\n",
    "df_total = pandas.DataFrame()\n",
    "for file in files:                         # loop through Excel files\n",
    "    if file.endswith('.xlsx'):\n",
    "        excel_file = pandas.ExcelFile(file)\n",
    "        sheets = excel_file.sheet_names\n",
    "        for sheet in sheets:               # loop through sheets inside an Excel file\n",
    "            df = excel_file.parse(sheet_name = sheet)\n",
    "            df_total = df_total.append(df)\n",
    "df_total.to_excel('{0}.xlsx'.format(combined_file_name))"
   ]
  }
 ],
 "metadata": {
  "kernelspec": {
   "display_name": "Python 3 (ipykernel)",
   "language": "python",
   "name": "python3"
  },
  "language_info": {
   "codemirror_mode": {
    "name": "ipython",
    "version": 3
   },
   "file_extension": ".py",
   "mimetype": "text/x-python",
   "name": "python",
   "nbconvert_exporter": "python",
   "pygments_lexer": "ipython3",
   "version": "3.9.7"
  }
 },
 "nbformat": 4,
 "nbformat_minor": 5
}
