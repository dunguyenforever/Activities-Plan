{
 "cells": [
  {
   "cell_type": "code",
   "execution_count": 64,
   "id": "ed9992f0",
   "metadata": {},
   "outputs": [],
   "source": [
    "import matplotlib.pyplot as plt\n",
    "import pandas as pd\n",
    "import os"
   ]
  },
  {
   "cell_type": "code",
   "execution_count": 65,
   "id": "2e266462",
   "metadata": {},
   "outputs": [],
   "source": [
    "# Count the number of locations \n",
    "count_location = 0\n",
    "cwd = os.getcwd()\n",
    "# iterate over files in that directory\n",
    "for filename in os.listdir(cwd):\n",
    "    if filename.endswith(\".xlsx\"): \n",
    "        #print(os.path.join(cwd, filename))\n",
    "        count_location += 1\n",
    "        continue\n",
    "    else:\n",
    "        continue"
   ]
  },
  {
   "cell_type": "code",
   "execution_count": 66,
   "id": "2e21cd69",
   "metadata": {},
   "outputs": [],
   "source": [
    "x = ['location 1', 'location 2', 'location 3', 'location 4', 'location 5', 'location 6']"
   ]
  },
  {
   "cell_type": "code",
   "execution_count": 67,
   "id": "855da863",
   "metadata": {},
   "outputs": [],
   "source": [
    "# Iterate through Excel file to \n",
    "# count the number of nearby restaurants in each location\n",
    "h = []\n",
    "for i in range (1,count + 1):\n",
    "    file_name = \"restaurant {i}.xlsx\".format(i = i)\n",
    "    pd_xl_file = pd.ExcelFile(file_name)\n",
    "    df = pd_xl_file.parse(\"Sheet1\")\n",
    "    dimensions = df.shape\n",
    "    h.append(dimensions[0] - 1)"
   ]
  },
  {
   "cell_type": "code",
   "execution_count": 68,
   "id": "96309d1b",
   "metadata": {},
   "outputs": [
    {
     "data": {
      "text/plain": [
       "<BarContainer object of 6 artists>"
      ]
     },
     "execution_count": 68,
     "metadata": {},
     "output_type": "execute_result"
    },
    {
     "data": {
      "image/png": "[encoded data removed]",
      "text/plain": [
       "<Figure size 432x288 with 1 Axes>"
      ]
     },
     "metadata": {
      "needs_background": "light"
     },
     "output_type": "display_data"
    }
   ],
   "source": [
    "# Graph a bar chart display number of restaurants per location\n",
    "plt.xlabel('Locations')\n",
    "plt.ylabel('Number of restaurants')\n",
    "plt.title('Number of restaurants within 2 miles radius from the location')\n",
    "plt.bar(x,h, width = 0.6)"
   ]
  },
  {
   "cell_type": "code",
   "execution_count": null,
   "id": "dbd79d4c",
   "metadata": {},
   "outputs": [],
   "source": []
  },
  {
   "cell_type": "code",
   "execution_count": null,
   "id": "6082bb59",
   "metadata": {},
   "outputs": [],
   "source": []
  }
 ],
 "metadata": {
  "kernelspec": {
   "display_name": "Python 3 (ipykernel)",
   "language": "python",
   "name": "python3"
  },
  "language_info": {
   "codemirror_mode": {
    "name": "ipython",
    "version": 3
   },
   "file_extension": ".py",
   "mimetype": "text/x-python",
   "name": "python",
   "nbconvert_exporter": "python",
   "pygments_lexer": "ipython3",
   "version": "3.9.7"
  }
 },
 "nbformat": 4,
 "nbformat_minor": 5
}
