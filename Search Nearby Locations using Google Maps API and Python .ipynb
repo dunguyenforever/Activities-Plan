{
 "cells": [
  {
   "cell_type": "code",
   "execution_count": 43,
   "id": "ad615004",
   "metadata": {},
   "outputs": [],
   "source": [
    "# This program will output a dedicated Excel file based on user input values for a specified location's address (address) \n",
    "# and its nearby locations preference (search_location) \n",
    "import time\n",
    "import googlemaps \n",
    "import pandas "
   ]
  },
  {
   "cell_type": "code",
   "execution_count": 44,
   "id": "e2b7531e",
   "metadata": {},
   "outputs": [],
   "source": [
    "def miles_to_meters(miles):\n",
    "    try:\n",
    "        return miles * 1_609.344\n",
    "    except:\n",
    "        return 0"
   ]
  },
  {
   "cell_type": "code",
   "execution_count": 45,
   "id": "3b204ffc",
   "metadata": {},
   "outputs": [],
   "source": [
    "# Enable Geocoding API, Geolocation API, and Places API on Google Cloud Platform\n",
    "# Generated an API Key from Google Cloud Platform and utilized it\n",
    "# My personal API Key is used in this project\n",
    "\n",
    "API_KEY = open('GOOGLEMAPS_API_KEY.txt','r').read()\n",
    "map_client = googlemaps.Client(API_KEY)"
   ]
  },
  {
   "cell_type": "code",
   "execution_count": 131,
   "id": "3bfa0a39",
   "metadata": {},
   "outputs": [],
   "source": [
    "# Input values before running the code\n",
    "address = '525 S Meridian St, Indianapolis, IN 46225' # User input value for an address\n",
    "\n",
    "search_location = 'conference'                        # User input value for the type of nearby location \n",
    "\n",
    "output_file_name = 'conference 6'                     # The name of the output Excel file\n",
    "\n",
    "distance = miles_to_meters(2)                         # User input value for how far it is from the address to the locations\n",
    "                                                      # the default input is 2 miles \n",
    "locations_list = []"
   ]
  },
  {
   "cell_type": "code",
   "execution_count": 132,
   "id": "c57af2bf",
   "metadata": {},
   "outputs": [],
   "source": [
    "geocode = map_client.geocode(address=address)\n",
    "(lat, lng) = map(geocode[0]['geometry']['location'].get, ('lat', 'lng'))"
   ]
  },
  {
   "cell_type": "code",
   "execution_count": 133,
   "id": "cfddb928",
   "metadata": {},
   "outputs": [],
   "source": [
    "response = map_client.places_nearby(\n",
    "    location=(lat, lng),\n",
    "    keyword=search_location,\n",
    "    radius=distance\n",
    ")   \n",
    "\n",
    "locations_list.extend(response.get('results'))\n",
    "next_page_token = response.get('next_page_token')"
   ]
  },
  {
   "cell_type": "code",
   "execution_count": 134,
   "id": "2eab1464",
   "metadata": {},
   "outputs": [],
   "source": [
    "while next_page_token:\n",
    "    time.sleep(2)\n",
    "    response = map_client.places_nearby(\n",
    "        location=(lat, lng),\n",
    "        keyword=search_location,\n",
    "        radius=distance,\n",
    "        page_token=next_page_token\n",
    "    )   \n",
    "    locations_list.extend(response.get('results'))\n",
    "    next_page_token = response.get('next_page_token')"
   ]
  },
  {
   "cell_type": "code",
   "execution_count": 135,
   "id": "598f3079",
   "metadata": {},
   "outputs": [],
   "source": [
    "df = pandas.DataFrame(locations_list)\n",
    "df['url'] = 'https://www.google.com/maps/place/?q=place_id:' + df['place_id']\n",
    "df.to_excel('{0}.xlsx'.format(output_file_name))"
   ]
  }
 ],
 "metadata": {
  "kernelspec": {
   "display_name": "Python 3 (ipykernel)",
   "language": "python",
   "name": "python3"
  },
  "language_info": {
   "codemirror_mode": {
    "name": "ipython",
    "version": 3
   },
   "file_extension": ".py",
   "mimetype": "text/x-python",
   "name": "python",
   "nbconvert_exporter": "python",
   "pygments_lexer": "ipython3",
   "version": "3.9.7"
  }
 },
 "nbformat": 4,
 "nbformat_minor": 5
}
